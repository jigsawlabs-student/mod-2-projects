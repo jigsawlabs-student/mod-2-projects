{
 "cells": [
  {
   "cell_type": "markdown",
   "id": "elect-devon",
   "metadata": {},
   "source": [
    "# Module 2 Projects"
   ]
  },
  {
   "cell_type": "markdown",
   "id": "streaming-sandwich",
   "metadata": {},
   "source": [
    "### Tasks to Accomplish"
   ]
  },
  {
   "cell_type": "markdown",
   "id": "geological-worry",
   "metadata": {},
   "source": [
    "For this round of projects, we will work on deploying our flask api and streamlit application using AWS, docker, and kubernetes.  We will wrap the projects either Thursday March 4 or Saturday March 6th (likely the former). Here are the recommended steps:"
   ]
  },
  {
   "cell_type": "markdown",
   "id": "parental-bristol",
   "metadata": {},
   "source": [
    "1. Connect a publicly accessible database\n",
    "\n",
    "* Create an RDS database, and make it publicly accessible\n",
    "* Run the migrations against the database with the `psql -f` flag\n",
    "* Connect the flask application to the RDS database\n",
    "* Move the DATABASE_URL to a `.env` file.  Make sure that any other variables (urls, api urls, keys, and secrets are also stored as environmental variables.\n",
    "* With code on local computer, can make a request to API, and fill database with some initial data\n",
    "\n",
    "2. Dockerize the application\n",
    "\n",
    "* Create the backend docker image\n",
    "* Create the docker image for the frontend\n",
    "* Check that can bootup frontend and backend docker containers\n",
    "* Confirm that making use of caching in Docker\n",
    "* Push to dockerhub"
   ]
  },
  {
   "cell_type": "markdown",
   "id": "specialized-arabic",
   "metadata": {},
   "source": [
    "3. Integrate kubernetes\n",
    "\n",
    "* Use kubernetes architecture of a backend service and frontend service\n",
    " * Use environmental variables and secrets in Kubernetes to set urls, and api information\n",
    "* Check that can both work properly, and can access from browser\n",
    "* And then work on ensuring that frontend connects to backend through services\n",
    "* Add an ingress service locally"
   ]
  },
  {
   "cell_type": "markdown",
   "id": "needed-tobacco",
   "metadata": {},
   "source": [
    "4. Deploy to AWS\n",
    "\n",
    "* Deploy to AWS by first setting up the cluster (can log into existing EC2 machine to do so)\n",
    "* Add the `deploy.yaml` file to add ingress nginx and load balancer\n",
    "* Clone the k8s files to the EC2 machine and create the corresponding resources\n",
    "* Bonus: Allow for access to the RDS database from security group of the two EC2 nodes, and then can make database private."
   ]
  }
 ],
 "metadata": {
  "kernelspec": {
   "display_name": "Python 3",
   "language": "python",
   "name": "python3"
  },
  "language_info": {
   "codemirror_mode": {
    "name": "ipython",
    "version": 3
   },
   "file_extension": ".py",
   "mimetype": "text/x-python",
   "name": "python",
   "nbconvert_exporter": "python",
   "pygments_lexer": "ipython3",
   "version": "3.8.6"
  }
 },
 "nbformat": 4,
 "nbformat_minor": 5
}
